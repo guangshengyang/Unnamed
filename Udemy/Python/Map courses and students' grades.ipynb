{
 "cells": [
  {
   "cell_type": "code",
   "execution_count": null,
   "metadata": {},
   "outputs": [],
   "source": [
    "# 编写程序，随机产生5门课程10个同学的成绩，并以课程为序组合起来"
   ]
  },
  {
   "cell_type": "code",
   "execution_count": 44,
   "metadata": {},
   "outputs": [],
   "source": [
    "import random"
   ]
  },
  {
   "cell_type": "code",
   "execution_count": 45,
   "metadata": {},
   "outputs": [],
   "source": [
    "course_dict = ['Math', 'English','Art', 'Science','History', 'Music','Sports','Chemistry']"
   ]
  },
  {
   "cell_type": "code",
   "execution_count": 46,
   "metadata": {},
   "outputs": [],
   "source": [
    "def make_rand_course(course_dict,num):\n",
    "    \n",
    "    rand_course = random.choices(population = course_dict,k = num)\n",
    "    rand_course = set(rand_course)\n",
    "    \n",
    "    while len(rand_course) < 5:\n",
    "        rand_course.add(random.choice(course_dict))\n",
    "        rand_course = set(rand_course)\n",
    "    \n",
    "    \n",
    "    return rand_course"
   ]
  },
  {
   "cell_type": "code",
   "execution_count": 47,
   "metadata": {},
   "outputs": [],
   "source": [
    "# generate 5 rand courses\n",
    "course =make_rand_course(course_dict,5)"
   ]
  },
  {
   "cell_type": "code",
   "execution_count": 50,
   "metadata": {},
   "outputs": [
    {
     "data": {
      "text/plain": [
       "{'Art', 'Chemistry', 'English', 'History', 'Science'}"
      ]
     },
     "execution_count": 50,
     "metadata": {},
     "output_type": "execute_result"
    }
   ],
   "source": [
    "course"
   ]
  },
  {
   "cell_type": "code",
   "execution_count": 51,
   "metadata": {},
   "outputs": [],
   "source": [
    "grade = []"
   ]
  },
  {
   "cell_type": "code",
   "execution_count": 52,
   "metadata": {},
   "outputs": [],
   "source": [
    "def rand_grade(grade,num_course,num_stu):\n",
    "    \n",
    "    for i in range(num_course):\n",
    "        course_grade = []\n",
    "    \n",
    "        for j in range(num_stu):\n",
    "            course_grade.append(random.randrange(60,101))\n",
    "        \n",
    "        grade.append(course_grade)"
   ]
  },
  {
   "cell_type": "code",
   "execution_count": 53,
   "metadata": {},
   "outputs": [],
   "source": [
    "rand_grade(grade,5,10)"
   ]
  },
  {
   "cell_type": "code",
   "execution_count": 54,
   "metadata": {},
   "outputs": [
    {
     "data": {
      "text/plain": [
       "[[99, 62, 82, 76, 80, 97, 93, 85, 87, 61],\n",
       " [68, 61, 73, 75, 61, 77, 87, 66, 92, 66],\n",
       " [88, 93, 62, 99, 92, 72, 90, 61, 77, 86],\n",
       " [63, 92, 64, 74, 88, 79, 68, 70, 97, 97],\n",
       " [81, 86, 84, 90, 90, 88, 65, 60, 80, 79]]"
      ]
     },
     "execution_count": 54,
     "metadata": {},
     "output_type": "execute_result"
    }
   ],
   "source": [
    "grade"
   ]
  },
  {
   "cell_type": "code",
   "execution_count": 55,
   "metadata": {},
   "outputs": [],
   "source": [
    "course_dict = dict(zip(course,grade))"
   ]
  },
  {
   "cell_type": "code",
   "execution_count": 57,
   "metadata": {},
   "outputs": [
    {
     "data": {
      "text/plain": [
       "{'Art': [99, 62, 82, 76, 80, 97, 93, 85, 87, 61],\n",
       " 'English': [68, 61, 73, 75, 61, 77, 87, 66, 92, 66],\n",
       " 'History': [88, 93, 62, 99, 92, 72, 90, 61, 77, 86],\n",
       " 'Science': [63, 92, 64, 74, 88, 79, 68, 70, 97, 97],\n",
       " 'Chemistry': [81, 86, 84, 90, 90, 88, 65, 60, 80, 79]}"
      ]
     },
     "execution_count": 57,
     "metadata": {},
     "output_type": "execute_result"
    }
   ],
   "source": [
    "course_dict"
   ]
  },
  {
   "cell_type": "code",
   "execution_count": null,
   "metadata": {},
   "outputs": [],
   "source": []
  }
 ],
 "metadata": {
  "kernelspec": {
   "display_name": "Python 3",
   "language": "python",
   "name": "python3"
  },
  "language_info": {
   "codemirror_mode": {
    "name": "ipython",
    "version": 3
   },
   "file_extension": ".py",
   "mimetype": "text/x-python",
   "name": "python",
   "nbconvert_exporter": "python",
   "pygments_lexer": "ipython3",
   "version": "3.8.5"
  }
 },
 "nbformat": 4,
 "nbformat_minor": 4
}
