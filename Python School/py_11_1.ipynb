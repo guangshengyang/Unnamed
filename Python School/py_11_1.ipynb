{
 "cells": [
  {
   "cell_type": "code",
   "execution_count": null,
   "metadata": {},
   "outputs": [],
   "source": [
    "import numpy as np\n",
    "import pandas as pd\n",
    "from pandas import DataFrame, Series\n",
    "import os"
   ]
  },
  {
   "cell_type": "markdown",
   "metadata": {},
   "source": [
    "# 1 数据清洗"
   ]
  },
  {
   "cell_type": "code",
   "execution_count": null,
   "metadata": {},
   "outputs": [],
   "source": [
    "print(\"1.1 从studentsInfo.xlsx 文件的“Group1”表单中读取数据\")\n",
    "student = pd.read_excel(\"studentsInfo.xlsx\", \"Group1\", index_col=0)\n",
    "student"
   ]
  },
  {
   "cell_type": "code",
   "execution_count": null,
   "metadata": {},
   "outputs": [],
   "source": [
    "print(\"1.2 将“案例教学”列数据值全改为NaN\")\n",
    "student[\"案例教学\"] = np.nan\n",
    "student"
   ]
  },
  {
   "cell_type": "code",
   "execution_count": null,
   "metadata": {},
   "outputs": [],
   "source": [
    "print(\"1.3 滤除每行数据中缺失3项以上（包括3项）的行\")\n",
    "student.dropna(thresh=student.shape[1] - 3 + 1)"
   ]
  },
  {
   "cell_type": "code",
   "execution_count": null,
   "metadata": {},
   "outputs": [],
   "source": [
    "print(\"1.4 滤除值全部为NaN的列\")\n",
    "student.dropna(axis=1)"
   ]
  },
  {
   "cell_type": "markdown",
   "metadata": {},
   "source": [
    "# 2 数据填充"
   ]
  },
  {
   "cell_type": "code",
   "execution_count": null,
   "metadata": {},
   "outputs": [],
   "source": [
    "print(\"2.1 使用studentsInfo.xlsx 文件的数据\")\n",
    "student = pd.read_excel(\"studentsInfo.xlsx\", \"Group1\", index_col=0)\n",
    "student"
   ]
  },
  {
   "cell_type": "code",
   "execution_count": null,
   "metadata": {},
   "outputs": [],
   "source": [
    "print(\"2.2 使用列的平均值填充“体重”和“成绩”列的NaN数据\")\n",
    "student.fillna({\"体重\": student[\"体重\"].mean(), \"成绩\": student[\"成绩\"].mean()}, inplace=True)\n",
    "student"
   ]
  },
  {
   "cell_type": "code",
   "execution_count": null,
   "metadata": {},
   "outputs": [],
   "source": [
    "print(\"2.3 使用上一行数据填充“年龄”列的NaN数据\")\n",
    "student[[\"年龄\"]] = student[[\"年龄\"]].fillna(method=\"ffill\")\n",
    "student"
   ]
  },
  {
   "cell_type": "code",
   "execution_count": null,
   "metadata": {},
   "outputs": [],
   "source": [
    "print('2.4 使用“中位数”填充“月生活费”NaN数据')\n",
    "student[['月生活费']] = student[['月生活费']].fillna({ \"月生活费\": student[\"月生活费\"].median()})\n",
    "student"
   ]
  },
  {
   "cell_type": "markdown",
   "metadata": {},
   "source": [
    "# 3 数据分析"
   ]
  },
  {
   "cell_type": "code",
   "execution_count": null,
   "metadata": {},
   "outputs": [],
   "source": [
    "print(\"3.1 读取DataScience.xls文件数据，创建为data数据对象\")\n",
    "data = pd.read_excel(\"DataScience.xlsx\", \"Sheet1\")\n",
    "data"
   ]
  },
  {
   "cell_type": "code",
   "execution_count": null,
   "metadata": {},
   "outputs": [],
   "source": [
    "print('3.2 查询df的数据量和基本结构（df.index，df.columns）')\n",
    "print(data.index)\n",
    "print(data.columns)"
   ]
  },
  {
   "cell_type": "code",
   "execution_count": null,
   "metadata": {},
   "outputs": [],
   "source": [
    "print('3.3 查询df中是否含有NaN数据？将含有NaN数据的行导出为数据文件pre.csv，判断采用何种数据清洗模式：填充、删除或手工填充')\n",
    "\n",
    "# 查询是否有NaN值，如果有导出到.csv文件中\n",
    "if(data.isnull().values.any()):\n",
    "    print('Yes, has NaN data')\n",
    "    mask_df = data.isnull().values\n",
    "    nan_df = data[mask_df]\n",
    "    \n",
    "    # 数据清洗\n",
    "    \n",
    "    # 删除数据缺失过多行，保留有效值至少8个的行\n",
    "    nan_df = nan_df.dropna(thresh=8)\n",
    "    # 对于其他NaN值，分别采用上一行和下一行的数据填充\n",
    "    nan_df = nan_df.fillna(method=\"bfill\")\n",
    "    nan_df = nan_df.fillna(method=\"ffill\")\n",
    "    \n",
    "    # 保存到新文件\n",
    "    nan_df.to_csv('pre.csv')\n",
    "    if os.path.exists('pre.csv'):\n",
    "        print('文件 pre.csv 成功创建。')\n",
    "else:\n",
    "    print('No, no NaN data')"
   ]
  },
  {
   "cell_type": "code",
   "execution_count": null,
   "metadata": {},
   "outputs": [],
   "source": [
    "print('3.4 查询课程名称、实验项目名称、实验类型和二级实验室名称等四列数据内容')\n",
    "data[['课程名称','实验项目名称','实验类型','二级实验室名称']]"
   ]
  },
  {
   "cell_type": "code",
   "execution_count": null,
   "metadata": {},
   "outputs": [],
   "source": [
    "print('3.5 统计每一门课程的实验课时数')\n",
    "acade_hour=data.groupby(by='课程名称')\n",
    "acade_hour.aggregate({'实验课时数':np.sum})"
   ]
  },
  {
   "cell_type": "code",
   "execution_count": null,
   "metadata": {},
   "outputs": [],
   "source": [
    "print('3.6 统计每周开设所有实验课时数')\n",
    "acade_hour_weekly=data.groupby(by='周次')\n",
    "acade_hour_weekly.aggregate({'实验课时数':np.sum})"
   ]
  },
  {
   "cell_type": "code",
   "execution_count": null,
   "metadata": {},
   "outputs": [],
   "source": [
    "print('3.7 统计每门课程的实验类型分布（crosstab）')\n",
    "pd.crosstab(data['课程名称'],data['实验类型'])"
   ]
  },
  {
   "cell_type": "code",
   "execution_count": null,
   "metadata": {},
   "outputs": [],
   "source": [
    "print('3.8 按班级输出他们的实验课课表')\n",
    "sort_by_class=data['班级'].copy()\n",
    "sort_by_class.drop_duplicates(inplace=True)\n",
    "sort_by_class=list(sort_by_class)\n",
    "\n",
    "for i in sort_by_class:\n",
    "    print(i,end = '')\n",
    "    print(' 实验课课表')\n",
    "    mask=data['班级'].values==i\n",
    "    table=data[mask]\n",
    "    table.sort_values(by=['周次','星期','节次'],ascending=False)\n",
    "    print(table)"
   ]
  },
  {
   "cell_type": "code",
   "execution_count": null,
   "metadata": {},
   "outputs": [],
   "source": [
    "print('3.9 分析各二级实验室承担的实验课时量')\n",
    "acade_hour_sublab=data.groupby(by='二级实验室名称')\n",
    "acade_hour_sublab.aggregate({'实验课时数':np.sum})"
   ]
  },
  {
   "cell_type": "code",
   "execution_count": null,
   "metadata": {},
   "outputs": [],
   "source": [
    "print('3.10 分析各二级实验室能够支持的实验类型')\n",
    "pd.crosstab(data['二级实验室名称'],data['实验类型'])"
   ]
  },
  {
   "cell_type": "code",
   "execution_count": null,
   "metadata": {},
   "outputs": [],
   "source": []
  }
 ],
 "metadata": {
  "kernelspec": {
   "display_name": "Python 3",
   "language": "python",
   "name": "python3"
  },
  "language_info": {
   "codemirror_mode": {
    "name": "ipython",
    "version": 3
   },
   "file_extension": ".py",
   "mimetype": "text/x-python",
   "name": "python",
   "nbconvert_exporter": "python",
   "pygments_lexer": "ipython3",
   "version": "3.8.6"
  }
 },
 "nbformat": 4,
 "nbformat_minor": 4
}
