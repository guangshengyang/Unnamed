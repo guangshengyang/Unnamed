{
 "cells": [
  {
   "cell_type": "code",
   "execution_count": 1,
   "metadata": {},
   "outputs": [],
   "source": [
    "# 编写程序，随机产生5门课程10个同学的成绩，计算每个同学的总分，按总分高低的顺序输出各同学的成绩"
   ]
  },
  {
   "cell_type": "code",
   "execution_count": 2,
   "metadata": {},
   "outputs": [],
   "source": [
    "import random"
   ]
  },
  {
   "cell_type": "markdown",
   "metadata": {},
   "source": [
    "## Generate 5  random courses"
   ]
  },
  {
   "cell_type": "code",
   "execution_count": 3,
   "metadata": {},
   "outputs": [],
   "source": [
    "course_dict = ['Math', 'English','Art', 'Science','History', 'Music','Sports','Chemistry']"
   ]
  },
  {
   "cell_type": "code",
   "execution_count": 4,
   "metadata": {},
   "outputs": [],
   "source": [
    "def make_rand_course(course_dict,num):\n",
    "    \n",
    "    rand_course = random.choices(population = course_dict,k = num)\n",
    "    rand_course = set(rand_course)\n",
    "    \n",
    "    while len(rand_course) < 5:\n",
    "        rand_course.add(random.choice(course_dict))\n",
    "        rand_course = set(rand_course)\n",
    "    \n",
    "    \n",
    "    return rand_course"
   ]
  },
  {
   "cell_type": "code",
   "execution_count": 5,
   "metadata": {},
   "outputs": [],
   "source": [
    "course =make_rand_course(course_dict,5)"
   ]
  },
  {
   "cell_type": "code",
   "execution_count": 6,
   "metadata": {},
   "outputs": [
    {
     "data": {
      "text/plain": [
       "{'Art', 'English', 'Math', 'Music', 'Sports'}"
      ]
     },
     "execution_count": 6,
     "metadata": {},
     "output_type": "execute_result"
    }
   ],
   "source": [
    "course"
   ]
  },
  {
   "cell_type": "markdown",
   "metadata": {},
   "source": [
    "## Generate 10 random grades"
   ]
  },
  {
   "cell_type": "code",
   "execution_count": 7,
   "metadata": {},
   "outputs": [],
   "source": [
    "grade = []"
   ]
  },
  {
   "cell_type": "code",
   "execution_count": 8,
   "metadata": {},
   "outputs": [],
   "source": [
    "def rand_grade(grade,num_stu,num_course):\n",
    "    \n",
    "    for i in range(num_course):\n",
    "        course_grade = []\n",
    "    \n",
    "        for j in range(num_stu):\n",
    "            course_grade.append(random.randrange(60,101))\n",
    "        \n",
    "        grade.append(course_grade)"
   ]
  },
  {
   "cell_type": "code",
   "execution_count": 9,
   "metadata": {},
   "outputs": [],
   "source": [
    "rand_grade(grade,5,10)"
   ]
  },
  {
   "cell_type": "code",
   "execution_count": 10,
   "metadata": {},
   "outputs": [
    {
     "data": {
      "text/plain": [
       "[[81, 66, 66, 90, 63],\n",
       " [83, 91, 85, 64, 73],\n",
       " [67, 81, 86, 85, 64],\n",
       " [81, 74, 91, 64, 88],\n",
       " [66, 100, 87, 82, 75],\n",
       " [60, 77, 92, 87, 65],\n",
       " [75, 93, 91, 99, 60],\n",
       " [97, 81, 100, 74, 100],\n",
       " [98, 63, 79, 69, 81],\n",
       " [79, 93, 60, 89, 88]]"
      ]
     },
     "execution_count": 10,
     "metadata": {},
     "output_type": "execute_result"
    }
   ],
   "source": [
    "grade"
   ]
  },
  {
   "cell_type": "markdown",
   "metadata": {},
   "source": [
    "## Calc students' sum grades"
   ]
  },
  {
   "cell_type": "code",
   "execution_count": 11,
   "metadata": {},
   "outputs": [],
   "source": [
    "sum_grade = []"
   ]
  },
  {
   "cell_type": "code",
   "execution_count": 12,
   "metadata": {},
   "outputs": [],
   "source": [
    "def calc_sum_grade(grade,sum_grade):\n",
    "    \n",
    "    for item in grade:\n",
    "        sum_grade.append(sum(item))\n",
    "    \n",
    "    return sum_grade"
   ]
  },
  {
   "cell_type": "code",
   "execution_count": 13,
   "metadata": {},
   "outputs": [
    {
     "data": {
      "text/plain": [
       "[366, 396, 383, 398, 410, 381, 418, 452, 390, 409]"
      ]
     },
     "execution_count": 13,
     "metadata": {},
     "output_type": "execute_result"
    }
   ],
   "source": [
    "calc_sum_grade(grade,sum_grade)"
   ]
  },
  {
   "cell_type": "markdown",
   "metadata": {},
   "source": [
    "## Create a Dict contains both sum-grade & grades"
   ]
  },
  {
   "cell_type": "code",
   "execution_count": 14,
   "metadata": {},
   "outputs": [],
   "source": [
    "rank_sum_grade_dict = dict(zip(sum_grade,grade))"
   ]
  },
  {
   "cell_type": "code",
   "execution_count": 15,
   "metadata": {},
   "outputs": [
    {
     "data": {
      "text/plain": [
       "{366: [81, 66, 66, 90, 63],\n",
       " 396: [83, 91, 85, 64, 73],\n",
       " 383: [67, 81, 86, 85, 64],\n",
       " 398: [81, 74, 91, 64, 88],\n",
       " 410: [66, 100, 87, 82, 75],\n",
       " 381: [60, 77, 92, 87, 65],\n",
       " 418: [75, 93, 91, 99, 60],\n",
       " 452: [97, 81, 100, 74, 100],\n",
       " 390: [98, 63, 79, 69, 81],\n",
       " 409: [79, 93, 60, 89, 88]}"
      ]
     },
     "execution_count": 15,
     "metadata": {},
     "output_type": "execute_result"
    }
   ],
   "source": [
    "rank_sum_grade_dict"
   ]
  },
  {
   "cell_type": "markdown",
   "metadata": {},
   "source": [
    "## Print out grades sorted by sum grade"
   ]
  },
  {
   "cell_type": "code",
   "execution_count": 16,
   "metadata": {},
   "outputs": [
    {
     "name": "stdout",
     "output_type": "stream",
     "text": [
      "366 : [81, 66, 66, 90, 63]\n",
      "381 : [60, 77, 92, 87, 65]\n",
      "383 : [67, 81, 86, 85, 64]\n",
      "390 : [98, 63, 79, 69, 81]\n",
      "396 : [83, 91, 85, 64, 73]\n",
      "398 : [81, 74, 91, 64, 88]\n",
      "409 : [79, 93, 60, 89, 88]\n",
      "410 : [66, 100, 87, 82, 75]\n",
      "418 : [75, 93, 91, 99, 60]\n",
      "452 : [97, 81, 100, 74, 100]\n"
     ]
    }
   ],
   "source": [
    "for key in sorted(rank_sum_grade_dict.keys()):\n",
    "    print(key,':',rank_sum_grade_dict[key])"
   ]
  }
 ],
 "metadata": {
  "kernelspec": {
   "display_name": "Python 3",
   "language": "python",
   "name": "python3"
  },
  "language_info": {
   "codemirror_mode": {
    "name": "ipython",
    "version": 3
   },
   "file_extension": ".py",
   "mimetype": "text/x-python",
   "name": "python",
   "nbconvert_exporter": "python",
   "pygments_lexer": "ipython3",
   "version": "3.8.5"
  }
 },
 "nbformat": 4,
 "nbformat_minor": 4
}
