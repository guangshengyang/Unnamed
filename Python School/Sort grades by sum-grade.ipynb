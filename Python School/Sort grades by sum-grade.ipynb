{
 "cells": [
  {
   "cell_type": "code",
   "execution_count": 1,
   "metadata": {},
   "outputs": [],
   "source": [
    "# 编写程序，随机产生5门课程10个同学的成绩，计算每个同学的总分，按总分高低的顺序输出各同学的成绩"
   ]
  },
  {
   "cell_type": "code",
   "execution_count": 2,
   "metadata": {},
   "outputs": [],
   "source": [
    "import random"
   ]
  },
  {
   "cell_type": "markdown",
   "metadata": {},
   "source": [
    "## Generate 5  random courses"
   ]
  },
  {
   "cell_type": "code",
   "execution_count": 3,
   "metadata": {},
   "outputs": [],
   "source": [
    "course_dict = ['Math', 'English','Art', 'Science','History', 'Music','Sports','Chemistry']"
   ]
  },
  {
   "cell_type": "code",
   "execution_count": 4,
   "metadata": {},
   "outputs": [],
   "source": [
    "def make_rand_course(course_dict,num):\n",
    "    \n",
    "    rand_course = random.choices(population = course_dict,k = num)\n",
    "    rand_course = set(rand_course)\n",
    "    \n",
    "    while len(rand_course) < 5:\n",
    "        rand_course.add(random.choice(course_dict))\n",
    "        rand_course = set(rand_course)\n",
    "    \n",
    "    \n",
    "    return rand_course"
   ]
  },
  {
   "cell_type": "code",
   "execution_count": 5,
   "metadata": {},
   "outputs": [],
   "source": [
    "course =make_rand_course(course_dict,5)"
   ]
  },
  {
   "cell_type": "code",
   "execution_count": 6,
   "metadata": {},
   "outputs": [
    {
     "output_type": "execute_result",
     "data": {
      "text/plain": "{'Art', 'Chemistry', 'Math', 'Music', 'Science'}"
     },
     "metadata": {},
     "execution_count": 6
    }
   ],
   "source": [
    "course"
   ]
  },
  {
   "cell_type": "markdown",
   "metadata": {},
   "source": [
    "## Generate 10 random grades"
   ]
  },
  {
   "cell_type": "code",
   "execution_count": 7,
   "metadata": {},
   "outputs": [],
   "source": [
    "grade = []"
   ]
  },
  {
   "cell_type": "code",
   "execution_count": 8,
   "metadata": {},
   "outputs": [],
   "source": [
    "def rand_grade(grade,num_stu,num_course):\n",
    "    \n",
    "    for i in range(num_course):\n",
    "        course_grade = []\n",
    "    \n",
    "        for j in range(num_stu):\n",
    "            course_grade.append(random.randrange(60,101))\n",
    "        \n",
    "        grade.append(course_grade)"
   ]
  },
  {
   "cell_type": "code",
   "execution_count": 9,
   "metadata": {},
   "outputs": [],
   "source": [
    "rand_grade(grade,5,10)"
   ]
  },
  {
   "cell_type": "code",
   "execution_count": 10,
   "metadata": {},
   "outputs": [
    {
     "output_type": "execute_result",
     "data": {
      "text/plain": "[[99, 91, 93, 67, 88],\n [67, 77, 85, 60, 63],\n [80, 95, 78, 95, 84],\n [93, 93, 73, 61, 63],\n [66, 78, 92, 84, 78],\n [66, 68, 98, 71, 96],\n [91, 84, 71, 98, 64],\n [87, 75, 81, 85, 88],\n [95, 94, 69, 65, 100],\n [72, 93, 61, 90, 71]]"
     },
     "metadata": {},
     "execution_count": 10
    }
   ],
   "source": [
    "grade"
   ]
  },
  {
   "cell_type": "markdown",
   "metadata": {},
   "source": [
    "## Calc students' sum grades"
   ]
  },
  {
   "cell_type": "code",
   "execution_count": 11,
   "metadata": {},
   "outputs": [],
   "source": [
    "sum_grade = []"
   ]
  },
  {
   "cell_type": "code",
   "execution_count": 12,
   "metadata": {},
   "outputs": [],
   "source": [
    "def calc_sum_grade(grade,sum_grade):\n",
    "    \n",
    "    for item in grade:\n",
    "        sum_grade.append(sum(item))\n",
    "    \n",
    "    return sum_grade"
   ]
  },
  {
   "cell_type": "code",
   "execution_count": 13,
   "metadata": {},
   "outputs": [
    {
     "output_type": "execute_result",
     "data": {
      "text/plain": "[438, 352, 432, 383, 398, 399, 408, 416, 423, 387]"
     },
     "metadata": {},
     "execution_count": 13
    }
   ],
   "source": [
    "calc_sum_grade(grade,sum_grade)"
   ]
  },
  {
   "cell_type": "markdown",
   "metadata": {},
   "source": [
    "## Create a Dict contains both sum-grade & grades"
   ]
  },
  {
   "cell_type": "code",
   "execution_count": 14,
   "metadata": {},
   "outputs": [],
   "source": [
    "rank_sum_grade_dict = dict(zip(sum_grade,grade))"
   ]
  },
  {
   "cell_type": "code",
   "execution_count": 15,
   "metadata": {},
   "outputs": [
    {
     "output_type": "execute_result",
     "data": {
      "text/plain": "{438: [99, 91, 93, 67, 88],\n 352: [67, 77, 85, 60, 63],\n 432: [80, 95, 78, 95, 84],\n 383: [93, 93, 73, 61, 63],\n 398: [66, 78, 92, 84, 78],\n 399: [66, 68, 98, 71, 96],\n 408: [91, 84, 71, 98, 64],\n 416: [87, 75, 81, 85, 88],\n 423: [95, 94, 69, 65, 100],\n 387: [72, 93, 61, 90, 71]}"
     },
     "metadata": {},
     "execution_count": 15
    }
   ],
   "source": [
    "rank_sum_grade_dict"
   ]
  },
  {
   "cell_type": "markdown",
   "metadata": {},
   "source": [
    "## Print out grades sorted by sum grade"
   ]
  },
  {
   "cell_type": "code",
   "execution_count": 16,
   "metadata": {
    "tags": []
   },
   "outputs": [
    {
     "output_type": "stream",
     "name": "stdout",
     "text": "438 : [99, 91, 93, 67, 88]\n432 : [80, 95, 78, 95, 84]\n423 : [95, 94, 69, 65, 100]\n416 : [87, 75, 81, 85, 88]\n408 : [91, 84, 71, 98, 64]\n399 : [66, 68, 98, 71, 96]\n398 : [66, 78, 92, 84, 78]\n387 : [72, 93, 61, 90, 71]\n383 : [93, 93, 73, 61, 63]\n352 : [67, 77, 85, 60, 63]\n"
    }
   ],
   "source": [
    "for key in sorted(rank_sum_grade_dict.keys(),reverse=True):\n",
    "    print(key,':',rank_sum_grade_dict[key])"
   ]
  },
  {
   "cell_type": "code",
   "execution_count": null,
   "metadata": {},
   "outputs": [],
   "source": []
  }
 ],
 "metadata": {
  "kernelspec": {
   "display_name": "Python 3",
   "language": "python",
   "name": "python3"
  },
  "language_info": {
   "codemirror_mode": {
    "name": "ipython",
    "version": 3
   },
   "file_extension": ".py",
   "mimetype": "text/x-python",
   "name": "python",
   "nbconvert_exporter": "python",
   "pygments_lexer": "ipython3",
   "version": "3.8.5-final"
  }
 },
 "nbformat": 4,
 "nbformat_minor": 4
}