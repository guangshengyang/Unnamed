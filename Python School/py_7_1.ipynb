{
 "cells": [
  {
   "cell_type": "code",
   "execution_count": 18,
   "metadata": {},
   "outputs": [
    {
     "name": "stdout",
     "output_type": "stream",
     "text": [
      "Enter the weight(kg): 50\n",
      "Enter the height(m): 1.75\n",
      "Thin\n"
     ]
    },
    {
     "data": {
      "text/plain": [
       "0.0007"
      ]
     },
     "execution_count": 18,
     "metadata": {},
     "output_type": "execute_result"
    }
   ],
   "source": [
    "def calc_bmi(height, weight):\n",
    "\n",
    "    bmi_val = weight/(height*height)\n",
    "    if (bmi_val < 18.5):\n",
    "        print('Thin')\n",
    "    elif(18.5 < bmi_val < 24):\n",
    "        print('Good')\n",
    "    elif(24 < bmi_val < 28):\n",
    "        print('Overweight')\n",
    "    elif(bmi_val > 28):\n",
    "        print('Fat')\n",
    "    return bmi_val\n",
    "\n",
    "\n",
    "def get_data():\n",
    "\n",
    "    x = input('Enter the weight(kg): ')\n",
    "    y = input('Enter the height(m): ')\n",
    "    if (float(x) > 100 or float(y) > 2):\n",
    "        print('Are you sure? Check the values unit.')\n",
    "        x = input('Enter the weight again(kg): ')\n",
    "        y = input('Enter the height again(m): ')\n",
    "    return x,y\n",
    "\n",
    "\n",
    "# call function\n",
    "x, y = get_data()\n",
    "calc_bmi(float(x), float(y))"
   ]
  },
  {
   "cell_type": "code",
   "execution_count": null,
   "metadata": {},
   "outputs": [],
   "source": []
  }
 ],
 "metadata": {
  "kernelspec": {
   "display_name": "Python 3",
   "language": "python",
   "name": "python3"
  },
  "language_info": {
   "codemirror_mode": {
    "name": "ipython",
    "version": 3
   },
   "file_extension": ".py",
   "mimetype": "text/x-python",
   "name": "python",
   "nbconvert_exporter": "python",
   "pygments_lexer": "ipython3",
   "version": "3.8.6"
  }
 },
 "nbformat": 4,
 "nbformat_minor": 4
}
