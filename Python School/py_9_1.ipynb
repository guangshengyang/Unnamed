{
 "cells": [
  {
   "cell_type": "markdown",
   "metadata": {},
   "source": [
    "## 题目\n",
    "大润发'、'沃尔玛'、'好德'和'农工商'四个超市都卖苹果、香蕉、桃子、桔子和芒果五种水果。使用NumPy的ndarray实现以下功能。\n",
    "\n",
    "1）\t创建两个一维数组分别存储超市名称和水果名称。\n",
    "\n",
    "2）\t创建一个4*5的二维数组存储不同超市的水果价格的明细表，其价格由随机数生成。\n",
    "\n",
    "3）\t选择大润发和好德的香蕉，并将价格增加1元。\n",
    "\n",
    "4）\t“农工商”水果大减价，所有水果价格减2元。\n",
    "\n",
    "5）\t统计四个超市五种水果的销售均价，与水果明细表合并在一起。\n",
    "\n",
    "6）\t找出桔子价格最贵的超市名称（不是编号）"
   ]
  },
  {
   "cell_type": "code",
   "execution_count": null,
   "metadata": {},
   "outputs": [],
   "source": []
  },
  {
   "cell_type": "code",
   "execution_count": null,
   "metadata": {},
   "outputs": [],
   "source": [
    "import numpy as np"
   ]
  },
  {
   "cell_type": "code",
   "execution_count": null,
   "metadata": {},
   "outputs": [],
   "source": [
    "# 1\n",
    "supmarket_name = ['大润发','沃尔玛','好德','农工商']\n",
    "fruit_name = ['苹果','香蕉','桃子','桔子','芒果']"
   ]
  },
  {
   "cell_type": "code",
   "execution_count": null,
   "metadata": {
    "scrolled": true
   },
   "outputs": [],
   "source": [
    "# 2\n",
    "price_arr = np.random.rand(4,5)*10\n",
    "\n",
    "np.set_printoptions(formatter={'float': '{: 0.2f}'.format})\n",
    "print('Supermarket and  fruits prices: \\n',price_arr)"
   ]
  },
  {
   "cell_type": "code",
   "execution_count": null,
   "metadata": {},
   "outputs": [],
   "source": [
    "# 3\n",
    "price_arr[0][1] += 1 \n",
    "price_arr[2][1] += 1\n",
    "print(price_arr)"
   ]
  },
  {
   "cell_type": "code",
   "execution_count": null,
   "metadata": {},
   "outputs": [],
   "source": [
    "# 4\n",
    "price_arr -= 2\n",
    "price_arr"
   ]
  },
  {
   "cell_type": "code",
   "execution_count": null,
   "metadata": {},
   "outputs": [],
   "source": [
    "# 5\n",
    "price_avg = np.average(price_arr,axis=1)\n",
    "price_avg = price_avg.reshape(price_avg.shape[0],1)\n",
    "\n",
    "merge_price = np.c_[price_arr,price_avg]\n",
    "merge_price"
   ]
  },
  {
   "cell_type": "code",
   "execution_count": null,
   "metadata": {},
   "outputs": [],
   "source": [
    "# 6\n",
    "expensive_fruit_sup = np.argmax(price_arr,axis = 0)\n",
    "supmarket_name[expensive_fruit_sup[3]]"
   ]
  },
  {
   "cell_type": "code",
   "execution_count": null,
   "metadata": {},
   "outputs": [],
   "source": []
  },
  {
   "cell_type": "code",
   "execution_count": null,
   "metadata": {},
   "outputs": [],
   "source": []
  }
 ],
 "metadata": {
  "kernelspec": {
   "display_name": "Python 3",
   "language": "python",
   "name": "python3"
  },
  "language_info": {
   "codemirror_mode": {
    "name": "ipython",
    "version": 3
   },
   "file_extension": ".py",
   "mimetype": "text/x-python",
   "name": "python",
   "nbconvert_exporter": "python",
   "pygments_lexer": "ipython3",
   "version": "3.8.6"
  }
 },
 "nbformat": 4,
 "nbformat_minor": 4
}
