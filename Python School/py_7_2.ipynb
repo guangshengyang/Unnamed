{
 "cells": [
  {
   "cell_type": "code",
   "execution_count": 1,
   "metadata": {},
   "outputs": [
    {
     "name": "stdout",
     "output_type": "stream",
     "text": [
      "(6, 1, 3.5)\n"
     ]
    }
   ],
   "source": [
    "# 编写一个函数，计算传入列表中的最大值，最小值和平均值，并以元组方式返回，然后，调用该函数\n",
    "\n",
    "def calc_nums(ls):\n",
    "    \n",
    "    max_val = max(ls)\n",
    "    min_val = min(ls)\n",
    "    ave_val = sum(ls)/len(ls)\n",
    "\n",
    "    return (max_val,min_val,ave_val)\n",
    "\n",
    "# call func\n",
    "ls = [1,2,3,4,5,6]\n",
    "tu = calc_nums(ls)\n",
    "\n",
    "print(tu)"
   ]
  },
  {
   "cell_type": "code",
   "execution_count": null,
   "metadata": {},
   "outputs": [],
   "source": []
  }
 ],
 "metadata": {
  "kernelspec": {
   "display_name": "Python 3",
   "language": "python",
   "name": "python3"
  },
  "language_info": {
   "codemirror_mode": {
    "name": "ipython",
    "version": 3
   },
   "file_extension": ".py",
   "mimetype": "text/x-python",
   "name": "python",
   "nbconvert_exporter": "python",
   "pygments_lexer": "ipython3",
   "version": "3.8.6"
  }
 },
 "nbformat": 4,
 "nbformat_minor": 4
}
