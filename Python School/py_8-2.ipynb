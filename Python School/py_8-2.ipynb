{
 "cells": [
  {
   "cell_type": "code",
   "execution_count": 2,
   "metadata": {},
   "outputs": [],
   "source": [
    "import pickle\n",
    "\n",
    "ss_scores = {'Mike': 98,'Ling': 89,'Ming':87,'Xin':100,'Jack':78,'Tony':62,'Mark':98,'Amy':74,'Pony':85,'Anna':88}"
   ]
  },
  {
   "cell_type": "code",
   "execution_count": 3,
   "metadata": {},
   "outputs": [
    {
     "data": {
      "text/plain": [
       "{'Mike': 98,\n",
       " 'Ling': 89,\n",
       " 'Ming': 87,\n",
       " 'Xin': 100,\n",
       " 'Jack': 78,\n",
       " 'Tony': 62,\n",
       " 'Mark': 98,\n",
       " 'Amy': 74,\n",
       " 'Pony': 85,\n",
       " 'Anna': 88}"
      ]
     },
     "execution_count": 3,
     "metadata": {},
     "output_type": "execute_result"
    }
   ],
   "source": [
    "ss_scores"
   ]
  },
  {
   "cell_type": "code",
   "execution_count": 4,
   "metadata": {},
   "outputs": [],
   "source": [
    "with open('pickling.txt','wb') as f:\n",
    "    pickle.dump(ss_scores,f)"
   ]
  },
  {
   "cell_type": "code",
   "execution_count": 6,
   "metadata": {},
   "outputs": [
    {
     "name": "stdout",
     "output_type": "stream",
     "text": [
      "{'Mike': 98, 'Ling': 89, 'Ming': 87, 'Xin': 100, 'Jack': 78, 'Tony': 62, 'Mark': 98, 'Amy': 74, 'Pony': 85, 'Anna': 88}\n"
     ]
    }
   ],
   "source": [
    "with open('pickling.txt','rb') as f:\n",
    "    data = pickle.load(f)\n",
    "    print(data)"
   ]
  },
  {
   "cell_type": "code",
   "execution_count": null,
   "metadata": {},
   "outputs": [],
   "source": []
  }
 ],
 "metadata": {
  "kernelspec": {
   "display_name": "Python 3",
   "language": "python",
   "name": "python3"
  },
  "language_info": {
   "codemirror_mode": {
    "name": "ipython",
    "version": 3
   },
   "file_extension": ".py",
   "mimetype": "text/x-python",
   "name": "python",
   "nbconvert_exporter": "python",
   "pygments_lexer": "ipython3",
   "version": "3.8.6"
  }
 },
 "nbformat": 4,
 "nbformat_minor": 4
}
