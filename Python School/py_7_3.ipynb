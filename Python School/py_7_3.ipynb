{
 "cells": [
  {
   "cell_type": "code",
   "execution_count": 1,
   "metadata": {},
   "outputs": [
    {
     "name": "stdout",
     "output_type": "stream",
     "text": [
      "Enter a string: zbhzb7284y.zlkNSJBCHbx. sjd487\n",
      "(('Upper case', 14), ('Lower case', 6), ('Digits', 7), ('Others', 3))\n"
     ]
    }
   ],
   "source": [
    "# 编写一个函数，接收传入的字符串，统计字符串中大写字母的个数，小写字母的个数，数字的个数和其它字符的个数，\n",
    "# 并以元组的形式返回这些数，然后调用该函数\n",
    "\n",
    "def count_all(str):\n",
    "\n",
    "    upr_case = low_case = digit = others = 0\n",
    "    for i in str:\n",
    "        if i.islower():\n",
    "            upr_case += 1\n",
    "        elif i.isupper():\n",
    "            low_case += 1\n",
    "        elif i.isdigit():\n",
    "            digit += 1\n",
    "        else:\n",
    "            others += 1\n",
    "\n",
    "    return ('Upper case', upr_case), ('Lower case', low_case), ('Digits', digit), ('Others', others)\n",
    "\n",
    "\n",
    "st = input('Enter a string: ')\n",
    "print(count_all(st))\n"
   ]
  },
  {
   "cell_type": "code",
   "execution_count": null,
   "metadata": {},
   "outputs": [],
   "source": []
  }
 ],
 "metadata": {
  "kernelspec": {
   "display_name": "Python 3",
   "language": "python",
   "name": "python3"
  },
  "language_info": {
   "codemirror_mode": {
    "name": "ipython",
    "version": 3
   },
   "file_extension": ".py",
   "mimetype": "text/x-python",
   "name": "python",
   "nbconvert_exporter": "python",
   "pygments_lexer": "ipython3",
   "version": "3.8.6"
  }
 },
 "nbformat": 4,
 "nbformat_minor": 4
}
