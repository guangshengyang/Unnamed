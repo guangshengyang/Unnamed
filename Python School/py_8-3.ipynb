{
 "cells": [
  {
   "cell_type": "code",
   "execution_count": null,
   "metadata": {},
   "outputs": [],
   "source": [
    "#制作英文词典。创建一个英文词典文件，每一行为“英文单词 中文词意”。\n",
    "#如果该单词已经存在，则不保存,并显示该单词已经存在。如果该单词不存在，则显示增加一个词条。 "
   ]
  },
  {
   "cell_type": "code",
   "execution_count": 28,
   "metadata": {},
   "outputs": [
    {
     "name": "stdout",
     "output_type": "stream",
     "text": [
      "{'hello': '你好', 'world': '世界', 'computer': '计算机'}\n"
     ]
    }
   ],
   "source": [
    "with open('Dictionary.txt','w+') as f:\n",
    "    \n",
    "    dict = {}\n",
    "    \n",
    "    dict['hello'] = '你好'\n",
    "    dict['world'] = '世界'\n",
    "    dict['computer']= '计算机'\n",
    "    \n",
    "    print(dict)\n",
    "    \n",
    "    for key,value in dict.items():\n",
    "        f.write(key + '\\t' + value + '\\n')"
   ]
  },
  {
   "cell_type": "code",
   "execution_count": 30,
   "metadata": {},
   "outputs": [
    {
     "name": "stdin",
     "output_type": "stream",
     "text": [
      "Enter new key:  we\n",
      "Enter the translation of we:  我们\n"
     ]
    },
    {
     "name": "stdout",
     "output_type": "stream",
     "text": [
      "\"we\" added to dictionary.\n"
     ]
    }
   ],
   "source": [
    "key = input('Enter new key: ')\n",
    "\n",
    "if(key in dict.keys()):\n",
    "    print('\\\"' + key + '\"' + ' already exist in dictionary.')\n",
    "else:\n",
    "    value = input('Enter the translation of '+key+': ')\n",
    "    dict[key] = value\n",
    "    \n",
    "    with open('Dictionary.txt','a') as f:\n",
    "        f.write(key + '\\t' + value + '\\n')\n",
    "        print('\\\"' + key + '\"' + ' added to dictionary.')"
   ]
  },
  {
   "cell_type": "code",
   "execution_count": 31,
   "metadata": {},
   "outputs": [
    {
     "name": "stdout",
     "output_type": "stream",
     "text": [
      "hello\t你好\n",
      "world\t世界\n",
      "computer\t计算机\n",
      "we\t我们\n",
      "\n"
     ]
    }
   ],
   "source": [
    "with open('Dictionary.txt','r') as f:\n",
    "    print(f.read())"
   ]
  },
  {
   "cell_type": "code",
   "execution_count": null,
   "metadata": {},
   "outputs": [],
   "source": []
  }
 ],
 "metadata": {
  "kernelspec": {
   "display_name": "Python 3",
   "language": "python",
   "name": "python3"
  },
  "language_info": {
   "codemirror_mode": {
    "name": "ipython",
    "version": 3
   },
   "file_extension": ".py",
   "mimetype": "text/x-python",
   "name": "python",
   "nbconvert_exporter": "python",
   "pygments_lexer": "ipython3",
   "version": "3.8.6"
  }
 },
 "nbformat": 4,
 "nbformat_minor": 4
}
