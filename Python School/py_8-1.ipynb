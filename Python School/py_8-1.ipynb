{
 "cells": [
  {
   "cell_type": "code",
   "execution_count": 1,
   "metadata": {},
   "outputs": [
    {
     "name": "stdin",
     "output_type": "stream",
     "text": [
      "Enter a random string:  hello jupyterlab\n"
     ]
    }
   ],
   "source": [
    "x = input('Enter a random string: ')\n",
    "\n",
    "with open('randomstr.txt','w') as f:\n",
    "    f.write(x)"
   ]
  },
  {
   "cell_type": "code",
   "execution_count": 2,
   "metadata": {},
   "outputs": [
    {
     "name": "stdout",
     "output_type": "stream",
     "text": [
      "hello jupyterlab\n",
      "HELLO JUPYTERLAB\n"
     ]
    }
   ],
   "source": [
    "with open('randomstr.txt','r') as f:\n",
    "    st = f.read()\n",
    "    \n",
    "    print(st)\n",
    "    new_str = ''\n",
    "\n",
    "    for i in range(len(st)):\n",
    "        if(st[i].isupper()):\n",
    "            new_str += st[i].lower()\n",
    "        elif(st[i].islower()):\n",
    "            new_str += st[i].upper()\n",
    "        else:\n",
    "            new_str +=st[i]\n",
    "    print(new_str)"
   ]
  },
  {
   "cell_type": "code",
   "execution_count": null,
   "metadata": {},
   "outputs": [],
   "source": []
  }
 ],
 "metadata": {
  "kernelspec": {
   "display_name": "Python 3",
   "language": "python",
   "name": "python3"
  },
  "language_info": {
   "codemirror_mode": {
    "name": "ipython",
    "version": 3
   },
   "file_extension": ".py",
   "mimetype": "text/x-python",
   "name": "python",
   "nbconvert_exporter": "python",
   "pygments_lexer": "ipython3",
   "version": "3.8.6"
  }
 },
 "nbformat": 4,
 "nbformat_minor": 4
}
